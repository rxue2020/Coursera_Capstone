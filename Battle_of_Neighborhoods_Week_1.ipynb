{
 "cells": [
  {
   "cell_type": "markdown",
   "metadata": {},
   "source": [
    "### Capstone Project:  The Battle of Neighborhoods (Week 1)"
   ]
  },
  {
   "cell_type": "markdown",
   "metadata": {},
   "source": [
    "Now that you have been equipped with the skills and the tools to use location data to explore a geographical location, over the course of two weeks, you will have the opportunity to be as creative as you want and come up with an idea to leverage the Foursquare location data to explore or compare neighborhoods or cities of your choice or to come up with a problem that you can use the Foursquare location data to solve. If you cannot think of an idea or a problem, here are some ideas to get you started:\n",
    "\n",
    "1. In Module 3, we explored New York City and the city of Toronto and segmented and clustered their neighborhoods. Both cities are very diverse and are the financial capitals of their respective countries. One interesting idea would be to compare the neighborhoods of the two cities and determine how similar or dissimilar they are. Is New York City more like Toronto or Paris or some other multicultural city? I will leave it to you to refine this idea.\n",
    "\n",
    "2. In a city of your choice, if someone is looking to open a restaurant, where would you recommend that they open it? Similarly, if a contractor is trying to start their own business, where would you recommend that they setup their office?\n",
    "\n",
    "These are just a couple of many ideas and problems that can be solved using location data in addition to other datasets. No matter what you decide to do, make sure to provide sufficient justification of why you think what you want to do or solve is important and why would a client or a group of people be interested in your project.\n",
    "\n",
    "Review criterialess \n",
    "This capstone project will be graded by your peers. This capstone project is worth 70% of your total grade. The project will be completed over the course of 2 weeks. Week 1 submissions will be worth 30% whereas week 2 submissions will be worth 40% of your total grade.\n",
    "\n",
    "For this week, you will required to submit the following:\n",
    "\n",
    "1. A description of the problem and a discussion of the background. (15 marks)\n",
    "2. A description of the data and how it will be used to solve the problem. (15 marks)\n",
    "\n",
    "For the second week, the final deliverables of the project will be:\n",
    "\n",
    "1. A link to your Notebook on your Github repository, showing your code. (15 marks)\n",
    "2. A full report consisting of all of the following components (15 marks):\n",
    "\n",
    "Introduction where you discuss the business problem and who would be interested in this project.\n",
    "Data where you describe the data that will be used to solve the problem and the source of the data.\n",
    "Methodology section which represents the main component of the report where you discuss and describe any exploratory data analysis that you did, any inferential statistical testing that you performed, if any, and what machine learnings were used and why.\n",
    "Results section where you discuss the results.\n",
    "Discussion section where you discuss any observations you noted and any recommendations you can make based on the results.\n",
    "Conclusion section where you conclude the report.\n",
    "\n",
    "3. Your choice of a presentation or blogpost. (10 marks)"
   ]
  },
  {
   "cell_type": "markdown",
   "metadata": {},
   "source": [
    "### Create Toronto Dataframe"
   ]
  },
  {
   "cell_type": "code",
   "execution_count": 1,
   "metadata": {},
   "outputs": [],
   "source": [
    "import pandas as pd\n",
    "import numpy as np\n",
    "import matplotlib.pyplot as plt\n",
    "import seaborn as sns\n",
    "%matplotlib inline\n",
    "from urllib.request import urlopen\n",
    "from bs4 import BeautifulSoup"
   ]
  },
  {
   "cell_type": "code",
   "execution_count": 4,
   "metadata": {},
   "outputs": [
    {
     "name": "stderr",
     "output_type": "stream",
     "text": [
      "/Users/richardxue/anaconda3/lib/python3.7/site-packages/ipykernel_launcher.py:53: SettingWithCopyWarning: \n",
      "A value is trying to be set on a copy of a slice from a DataFrame.\n",
      "Try using .loc[row_indexer,col_indexer] = value instead\n",
      "\n",
      "See the caveats in the documentation: http://pandas.pydata.org/pandas-docs/stable/indexing.html#indexing-view-versus-copy\n"
     ]
    },
    {
     "data": {
      "text/html": [
       "<div>\n",
       "<style scoped>\n",
       "    .dataframe tbody tr th:only-of-type {\n",
       "        vertical-align: middle;\n",
       "    }\n",
       "\n",
       "    .dataframe tbody tr th {\n",
       "        vertical-align: top;\n",
       "    }\n",
       "\n",
       "    .dataframe thead th {\n",
       "        text-align: right;\n",
       "    }\n",
       "</style>\n",
       "<table border=\"1\" class=\"dataframe\">\n",
       "  <thead>\n",
       "    <tr style=\"text-align: right;\">\n",
       "      <th></th>\n",
       "      <th>Postal code</th>\n",
       "      <th>Borough</th>\n",
       "      <th>Neighborhood</th>\n",
       "      <th>Latitude</th>\n",
       "      <th>Longitude</th>\n",
       "    </tr>\n",
       "  </thead>\n",
       "  <tbody>\n",
       "    <tr>\n",
       "      <th>0</th>\n",
       "      <td>M3A</td>\n",
       "      <td>North York</td>\n",
       "      <td>Parkwoods</td>\n",
       "      <td>43.753259</td>\n",
       "      <td>-79.329656</td>\n",
       "    </tr>\n",
       "    <tr>\n",
       "      <th>1</th>\n",
       "      <td>M4A</td>\n",
       "      <td>North York</td>\n",
       "      <td>Victoria Village</td>\n",
       "      <td>43.725882</td>\n",
       "      <td>-79.315572</td>\n",
       "    </tr>\n",
       "    <tr>\n",
       "      <th>2</th>\n",
       "      <td>M5A</td>\n",
       "      <td>Downtown Toronto</td>\n",
       "      <td>Regent Park, Harbourfront</td>\n",
       "      <td>43.654260</td>\n",
       "      <td>-79.360636</td>\n",
       "    </tr>\n",
       "    <tr>\n",
       "      <th>3</th>\n",
       "      <td>M6A</td>\n",
       "      <td>North York</td>\n",
       "      <td>Lawrence Manor, Lawrence Heights</td>\n",
       "      <td>43.718518</td>\n",
       "      <td>-79.464763</td>\n",
       "    </tr>\n",
       "    <tr>\n",
       "      <th>4</th>\n",
       "      <td>M7A</td>\n",
       "      <td>Downtown Toronto</td>\n",
       "      <td>Queen's Park, Ontario Provincial Government</td>\n",
       "      <td>43.662301</td>\n",
       "      <td>-79.389494</td>\n",
       "    </tr>\n",
       "  </tbody>\n",
       "</table>\n",
       "</div>"
      ],
      "text/plain": [
       "  Postal code            Borough  \\\n",
       "0         M3A         North York   \n",
       "1         M4A         North York   \n",
       "2         M5A   Downtown Toronto   \n",
       "3         M6A         North York   \n",
       "4         M7A   Downtown Toronto   \n",
       "\n",
       "                                   Neighborhood   Latitude  Longitude  \n",
       "0                                     Parkwoods  43.753259 -79.329656  \n",
       "1                              Victoria Village  43.725882 -79.315572  \n",
       "2                     Regent Park, Harbourfront  43.654260 -79.360636  \n",
       "3              Lawrence Manor, Lawrence Heights  43.718518 -79.464763  \n",
       "4   Queen's Park, Ontario Provincial Government  43.662301 -79.389494  "
      ]
     },
     "execution_count": 4,
     "metadata": {},
     "output_type": "execute_result"
    }
   ],
   "source": [
    "url = \"https://en.wikipedia.org/wiki/List_of_postal_codes_of_Canada:_M\"\n",
    "html = urlopen(url)\n",
    "soup = BeautifulSoup(html, 'lxml')\n",
    "rows = soup.find_all('tr')\n",
    "for row in rows:\n",
    "    row_td = row.find_all('td')\n",
    "\n",
    "str_cells = str(row_td)\n",
    "cleantext = BeautifulSoup(str_cells, \"lxml\").get_text()\n",
    "\n",
    "import re\n",
    "\n",
    "list_rows = []\n",
    "for row in rows:\n",
    "    cells = row.find_all('td')\n",
    "    str_cells = str(cells)\n",
    "    clean = re.compile('<.*?>')\n",
    "    clean2 = (re.sub(clean, '',str_cells))\n",
    "    list_rows.append(clean2)\n",
    "\n",
    "df = pd.DataFrame(list_rows)\n",
    "df1 = df[0].str.split(',', expand=True)\n",
    "\n",
    "# Remove '[',']' on Column 0 and Column 1\n",
    "df1[0] = df1[0].str.strip('[')\n",
    "df1[2] = df1[2].str.strip(']')\n",
    "\n",
    "# Remove \\n on first 3 columns\n",
    "for i in range(3):\n",
    "    df1[i] = df1[i].str.strip('\\n')\n",
    "\n",
    "# Keep first three columns\n",
    "df2 = df1.iloc[:, : 3]\n",
    "\n",
    "# Get table headers\n",
    "col_labels = soup.find_all('th')\n",
    "all_header = []\n",
    "col_str = str(col_labels)\n",
    "cleantext2 = BeautifulSoup(col_str, \"lxml\").get_text()\n",
    "all_header.append(cleantext2)\n",
    "\n",
    "# Replace headers\n",
    "columns = {0:'Postal code', 1:'Borough', 2:'Neighborhood'}\n",
    "df3 = df2.rename(columns=columns)\n",
    "\n",
    "# Remove rows contain 'Not assigned','NS','NL','B', and 'None' in Borough column\n",
    "df4 = df3[~df3['Borough'].str.contains(\"Not assigned|NS|NL|B\", na=True)]\n",
    "\n",
    "# Remove rows contain 'None' in Neighborhood column\n",
    "df5 = df4[~df4['Neighborhood'].str.contains(\"N/A\", na=True)]\n",
    "\n",
    "# Replace / with , in Neighborhood column\n",
    "df5['Neighborhood'] = df5['Neighborhood'].str.replace(' /',',')\n",
    "\n",
    "df6 = df5[df5['Postal code'].str.contains(\"M5A\", na=True)]\n",
    "\n",
    "df5.shape\n",
    "\n",
    "df_geocoder = pd.read_csv(\"Geospatial_Coordinates.csv\")\n",
    "\n",
    "df_toronto = pd.merge(df5, df_geocoder, on='Postal code', how='outer')\n",
    "df_toronto.head(5)"
   ]
  },
  {
   "cell_type": "markdown",
   "metadata": {},
   "source": [
    "### Use Foursquare API to explore the neighborhoods and segment them"
   ]
  },
  {
   "cell_type": "code",
   "execution_count": 5,
   "metadata": {},
   "outputs": [],
   "source": [
    "# My Foursquare credential\n",
    "VERSION = '20180605' \n",
    "CLIENT_ID='0QUMVQD2MXECCBFR4U3CDLQFO2WVVQOE5JGGBR04VJJ5Q5OO'\n",
    "CLIENT_SECRET = 'V2RDAFWOSJ4IKWKLNNAIZDEE30EDGSA5FE0LTROSJAVGYHFQ'"
   ]
  },
  {
   "cell_type": "markdown",
   "metadata": {},
   "source": [
    "#### Explore the second neighborhood in Toronto dataframe"
   ]
  },
  {
   "cell_type": "code",
   "execution_count": 7,
   "metadata": {},
   "outputs": [
    {
     "data": {
      "text/html": [
       "<div>\n",
       "<style scoped>\n",
       "    .dataframe tbody tr th:only-of-type {\n",
       "        vertical-align: middle;\n",
       "    }\n",
       "\n",
       "    .dataframe tbody tr th {\n",
       "        vertical-align: top;\n",
       "    }\n",
       "\n",
       "    .dataframe thead th {\n",
       "        text-align: right;\n",
       "    }\n",
       "</style>\n",
       "<table border=\"1\" class=\"dataframe\">\n",
       "  <thead>\n",
       "    <tr style=\"text-align: right;\">\n",
       "      <th></th>\n",
       "      <th>Postal code</th>\n",
       "      <th>Borough</th>\n",
       "      <th>Neighborhood</th>\n",
       "      <th>Latitude</th>\n",
       "      <th>Longitude</th>\n",
       "    </tr>\n",
       "  </thead>\n",
       "  <tbody>\n",
       "    <tr>\n",
       "      <th>1</th>\n",
       "      <td>M4A</td>\n",
       "      <td>North York</td>\n",
       "      <td>Victoria Village</td>\n",
       "      <td>43.725882</td>\n",
       "      <td>-79.315572</td>\n",
       "    </tr>\n",
       "  </tbody>\n",
       "</table>\n",
       "</div>"
      ],
      "text/plain": [
       "  Postal code      Borough       Neighborhood   Latitude  Longitude\n",
       "1         M4A   North York   Victoria Village  43.725882 -79.315572"
      ]
     },
     "execution_count": 7,
     "metadata": {},
     "output_type": "execute_result"
    }
   ],
   "source": [
    "df_toronto[1:2]"
   ]
  },
  {
   "cell_type": "markdown",
   "metadata": {},
   "source": [
    "#### Get the 2nd neighborhood's name, latitude and longitude values"
   ]
  },
  {
   "cell_type": "code",
   "execution_count": 8,
   "metadata": {},
   "outputs": [],
   "source": [
    "neighborhood_latitude = df_toronto.loc[0, 'Latitude'] \n",
    "neighborhood_longitude = df_toronto.loc[0, 'Longitude']\n",
    "neighborhood_name = df_toronto.loc[0, 'Neighborhood']"
   ]
  },
  {
   "cell_type": "markdown",
   "metadata": {},
   "source": [
    "#### Get the top 100 venues that are in Victoria Village within a radius of 400 meters"
   ]
  },
  {
   "cell_type": "code",
   "execution_count": 26,
   "metadata": {},
   "outputs": [
    {
     "data": {
      "text/plain": [
       "'https://api.foursquare.com/v2/venues/explore?&client_id=0QUMVQD2MXECCBFR4U3CDLQFO2WVVQOE5JGGBR04VJJ5Q5OO&client_secret=V2RDAFWOSJ4IKWKLNNAIZDEE30EDGSA5FE0LTROSJAVGYHFQ&v=20180605&ll=43.7532586,-79.3296565&radius=400&limit=100'"
      ]
     },
     "execution_count": 26,
     "metadata": {},
     "output_type": "execute_result"
    }
   ],
   "source": [
    "num_venues = 100\n",
    "radius = 400 \n",
    "URL = 'https://api.foursquare.com/v2/venues/explore?&client_id={}&client_secret={}&v={}&ll={},{}&radius={}&limit={}'.format(\n",
    "    CLIENT_ID, CLIENT_SECRET, VERSION, neighborhood_latitude, neighborhood_longitude, radius, num_venues)\n",
    "URL"
   ]
  },
  {
   "cell_type": "markdown",
   "metadata": {},
   "source": [
    "#### Make HTTP GET Request via Foursquare API"
   ]
  },
  {
   "cell_type": "code",
   "execution_count": 27,
   "metadata": {},
   "outputs": [
    {
     "data": {
      "text/plain": [
       "{'meta': {'code': 200, 'requestId': '5e842a6895feaf001b74605b'},\n",
       " 'response': {'warning': {'text': \"There aren't a lot of results near you. Try something more general, reset your filters, or expand the search area.\"},\n",
       "  'headerLocation': 'Parkwoods - Donalda',\n",
       "  'headerFullLocation': 'Parkwoods - Donalda, Toronto',\n",
       "  'headerLocationGranularity': 'neighborhood',\n",
       "  'totalResults': 3,\n",
       "  'suggestedBounds': {'ne': {'lat': 43.75685860360001,\n",
       "    'lng': -79.32468189187942},\n",
       "   'sw': {'lat': 43.749658596399996, 'lng': -79.33463110812058}},\n",
       "  'groups': [{'type': 'Recommended Places',\n",
       "    'name': 'recommended',\n",
       "    'items': [{'reasons': {'count': 0,\n",
       "       'items': [{'summary': 'This spot is popular',\n",
       "         'type': 'general',\n",
       "         'reasonName': 'globalInteractionReason'}]},\n",
       "      'venue': {'id': '4e8d9dcdd5fbbbb6b3003c7b',\n",
       "       'name': 'Brookbanks Park',\n",
       "       'location': {'address': 'Toronto',\n",
       "        'lat': 43.751976046055574,\n",
       "        'lng': -79.33214044722958,\n",
       "        'labeledLatLngs': [{'label': 'display',\n",
       "          'lat': 43.751976046055574,\n",
       "          'lng': -79.33214044722958}],\n",
       "        'distance': 245,\n",
       "        'cc': 'CA',\n",
       "        'city': 'Toronto',\n",
       "        'state': 'ON',\n",
       "        'country': 'Canada',\n",
       "        'formattedAddress': ['Toronto', 'Toronto ON', 'Canada']},\n",
       "       'categories': [{'id': '4bf58dd8d48988d163941735',\n",
       "         'name': 'Park',\n",
       "         'pluralName': 'Parks',\n",
       "         'shortName': 'Park',\n",
       "         'icon': {'prefix': 'https://ss3.4sqi.net/img/categories_v2/parks_outdoors/park_',\n",
       "          'suffix': '.png'},\n",
       "         'primary': True}],\n",
       "       'photos': {'count': 0, 'groups': []}},\n",
       "      'referralId': 'e-0-4e8d9dcdd5fbbbb6b3003c7b-0'},\n",
       "     {'reasons': {'count': 0,\n",
       "       'items': [{'summary': 'This spot is popular',\n",
       "         'type': 'general',\n",
       "         'reasonName': 'globalInteractionReason'}]},\n",
       "      'venue': {'id': '51d769f2498e3efc78bee6b9',\n",
       "       'name': '649 Variety',\n",
       "       'location': {'lat': 43.754513133391214,\n",
       "        'lng': -79.33194239759004,\n",
       "        'labeledLatLngs': [{'label': 'display',\n",
       "          'lat': 43.754513133391214,\n",
       "          'lng': -79.33194239759004}],\n",
       "        'distance': 230,\n",
       "        'cc': 'CA',\n",
       "        'city': 'Toronto',\n",
       "        'state': 'ON',\n",
       "        'country': 'Canada',\n",
       "        'formattedAddress': ['Toronto ON', 'Canada']},\n",
       "       'categories': [{'id': '4d954b0ea243a5684a65b473',\n",
       "         'name': 'Convenience Store',\n",
       "         'pluralName': 'Convenience Stores',\n",
       "         'shortName': 'Convenience Store',\n",
       "         'icon': {'prefix': 'https://ss3.4sqi.net/img/categories_v2/shops/conveniencestore_',\n",
       "          'suffix': '.png'},\n",
       "         'primary': True}],\n",
       "       'photos': {'count': 0, 'groups': []}},\n",
       "      'referralId': 'e-0-51d769f2498e3efc78bee6b9-1'},\n",
       "     {'reasons': {'count': 0,\n",
       "       'items': [{'summary': 'This spot is popular',\n",
       "         'type': 'general',\n",
       "         'reasonName': 'globalInteractionReason'}]},\n",
       "      'venue': {'id': '4cb11e2075ebb60cd1c4caad',\n",
       "       'name': 'Variety Store',\n",
       "       'location': {'address': '29 Valley Woods Road',\n",
       "        'lat': 43.75197441585782,\n",
       "        'lng': -79.33311418516017,\n",
       "        'labeledLatLngs': [{'label': 'display',\n",
       "          'lat': 43.75197441585782,\n",
       "          'lng': -79.33311418516017}],\n",
       "        'distance': 312,\n",
       "        'cc': 'CA',\n",
       "        'city': 'Toronto',\n",
       "        'state': 'ON',\n",
       "        'country': 'Canada',\n",
       "        'formattedAddress': ['29 Valley Woods Road', 'Toronto ON', 'Canada']},\n",
       "       'categories': [{'id': '4bf58dd8d48988d1f9941735',\n",
       "         'name': 'Food & Drink Shop',\n",
       "         'pluralName': 'Food & Drink Shops',\n",
       "         'shortName': 'Food & Drink',\n",
       "         'icon': {'prefix': 'https://ss3.4sqi.net/img/categories_v2/shops/foodanddrink_',\n",
       "          'suffix': '.png'},\n",
       "         'primary': True}],\n",
       "       'photos': {'count': 0, 'groups': []}},\n",
       "      'referralId': 'e-0-4cb11e2075ebb60cd1c4caad-2'}]}]}}"
      ]
     },
     "execution_count": 27,
     "metadata": {},
     "output_type": "execute_result"
    }
   ],
   "source": [
    "import requests\n",
    "response = requests.get(URL).json()\n",
    "response"
   ]
  },
  {
   "cell_type": "markdown",
   "metadata": {},
   "source": [
    "The information from the above response is in the items key. We need the following get_category_type() function from the Foursquare lab to transform the JSON data."
   ]
  },
  {
   "cell_type": "code",
   "execution_count": 28,
   "metadata": {},
   "outputs": [],
   "source": [
    "# Function that extracts the category of the venue\n",
    "def get_category_type(row):\n",
    "    try:\n",
    "        categories_list = row['categories']\n",
    "    except:\n",
    "        categories_list = row['venue.categories']\n",
    "        \n",
    "    if len(categories_list) == 0:\n",
    "        return None\n",
    "    else:\n",
    "        return categories_list[0]['name']"
   ]
  },
  {
   "cell_type": "markdown",
   "metadata": {},
   "source": [
    "#### Transform JSON Respon into a Pandas Dataframe"
   ]
  },
  {
   "cell_type": "code",
   "execution_count": 29,
   "metadata": {},
   "outputs": [
    {
     "data": {
      "text/html": [
       "<div>\n",
       "<style scoped>\n",
       "    .dataframe tbody tr th:only-of-type {\n",
       "        vertical-align: middle;\n",
       "    }\n",
       "\n",
       "    .dataframe tbody tr th {\n",
       "        vertical-align: top;\n",
       "    }\n",
       "\n",
       "    .dataframe thead th {\n",
       "        text-align: right;\n",
       "    }\n",
       "</style>\n",
       "<table border=\"1\" class=\"dataframe\">\n",
       "  <thead>\n",
       "    <tr style=\"text-align: right;\">\n",
       "      <th></th>\n",
       "      <th>name</th>\n",
       "      <th>categories</th>\n",
       "      <th>lat</th>\n",
       "      <th>lng</th>\n",
       "    </tr>\n",
       "  </thead>\n",
       "  <tbody>\n",
       "    <tr>\n",
       "      <th>0</th>\n",
       "      <td>Brookbanks Park</td>\n",
       "      <td>Park</td>\n",
       "      <td>43.751976</td>\n",
       "      <td>-79.332140</td>\n",
       "    </tr>\n",
       "    <tr>\n",
       "      <th>1</th>\n",
       "      <td>649 Variety</td>\n",
       "      <td>Convenience Store</td>\n",
       "      <td>43.754513</td>\n",
       "      <td>-79.331942</td>\n",
       "    </tr>\n",
       "    <tr>\n",
       "      <th>2</th>\n",
       "      <td>Variety Store</td>\n",
       "      <td>Food &amp; Drink Shop</td>\n",
       "      <td>43.751974</td>\n",
       "      <td>-79.333114</td>\n",
       "    </tr>\n",
       "  </tbody>\n",
       "</table>\n",
       "</div>"
      ],
      "text/plain": [
       "              name         categories        lat        lng\n",
       "0  Brookbanks Park               Park  43.751976 -79.332140\n",
       "1      649 Variety  Convenience Store  43.754513 -79.331942\n",
       "2    Variety Store  Food & Drink Shop  43.751974 -79.333114"
      ]
     },
     "execution_count": 29,
     "metadata": {},
     "output_type": "execute_result"
    }
   ],
   "source": [
    "from pandas.io.json import json_normalize\n",
    "\n",
    "venues = response['response']['groups'][0]['items']\n",
    "\n",
    "# Normalize Json data\n",
    "nearby_venues = json_normalize(venues)\n",
    "\n",
    "# Filter columns\n",
    "filtered_columns = ['venue.name', 'venue.categories', 'venue.location.lat', 'venue.location.lng']\n",
    "nearby_venues =nearby_venues.loc[:, filtered_columns]\n",
    "\n",
    "# Filter the category for each row\n",
    "nearby_venues['venue.categories'] = nearby_venues.apply(get_category_type, axis=1)\n",
    "\n",
    "# Clean columns\n",
    "nearby_venues.columns = [col.split(\".\")[-1] for col in nearby_venues.columns]\n",
    "nearby_venues.head()"
   ]
  },
  {
   "cell_type": "code",
   "execution_count": 30,
   "metadata": {},
   "outputs": [
    {
     "name": "stdout",
     "output_type": "stream",
     "text": [
      "There are 3 venues identified by Foursquare.\n"
     ]
    }
   ],
   "source": [
    "print('There are {} venues identified by Foursquare.'.format(nearby_venues.shape[0]))"
   ]
  },
  {
   "cell_type": "markdown",
   "metadata": {},
   "source": [
    "### Explore All Neighborhoods in Toronto"
   ]
  },
  {
   "cell_type": "markdown",
   "metadata": {},
   "source": [
    "Define a function to repeat the above process to all neighborhoods in Toronto"
   ]
  },
  {
   "cell_type": "code",
   "execution_count": 37,
   "metadata": {},
   "outputs": [],
   "source": [
    "def findNearbyVenues(names, latitudes, longitudes, radius=400):\n",
    "    venues_list=[]\n",
    "    for name, lat, lng in zip(names, latitudes, longitudes):\n",
    "        print(name)\n",
    "            \n",
    "        #  API GET Request URL\n",
    "        URL = 'https://api.foursquare.com/v2/venues/explore?&client_id={}&client_secret={}&v={}&ll={},{}&radius={}&limit={}'.format(\n",
    "                CLIENT_ID, CLIENT_SECRET, VERSION, neighborhood_latitude, neighborhood_longitude, radius, num_venues)\n",
    "            \n",
    "        # Make the GET request\n",
    "        response = requests.get(URL).json()[\"response\"]['groups'][0]['items']\n",
    "        \n",
    "        # Return only relevant information for each nearby venue\n",
    "        venues_list.append([(name, lat, lng, v['venue']['name'], v['venue']['location']['lat'], \n",
    "            v['venue']['location']['lng'], v['venue']['categories'][0]['name']) for v in response])\n",
    "\n",
    "    nearby_venues = pd.DataFrame([item for venue_list in venues_list for item in venue_list])\n",
    "    nearby_venues.columns = ['Neighborhood', 'Neighborhood Latitude', 'Neighborhood Longitude', 'Venue', \n",
    "                'Venue Latitude', 'Venue Longitude', 'Venue Category']\n",
    "    \n",
    "    return(nearby_venues)"
   ]
  },
  {
   "cell_type": "markdown",
   "metadata": {},
   "source": [
    "#### Use the above function to find nearby venues for all neighborhoods and create a new dataframe called df_toronto_venues."
   ]
  },
  {
   "cell_type": "code",
   "execution_count": 38,
   "metadata": {},
   "outputs": [
    {
     "name": "stdout",
     "output_type": "stream",
     "text": [
      " Parkwoods\n",
      " Victoria Village\n",
      " Regent Park, Harbourfront\n",
      " Lawrence Manor, Lawrence Heights\n",
      " Queen's Park, Ontario Provincial Government\n",
      " Islington Avenue\n",
      " Malvern, Rouge\n",
      " Don Mills\n",
      " Parkview Hill, Woodbine Gardens\n",
      " Garden District\n",
      " Glencairn\n",
      " West Deane Park, Princess Gardens, Martin Grove, Islington, Cloverdale\n",
      " Rouge Hill, Port Union, Highland Creek\n",
      " Don Mills\n",
      " Woodbine Heights\n",
      " St. James Town\n",
      " Humewood-Cedarvale\n",
      " Eringate, Bloordale Gardens, Old Burnhamthorpe, Markland Wood\n",
      " Guildwood, Morningside, West Hill\n",
      " The Beaches\n",
      " Berczy Park\n",
      " Caledonia-Fairbanks\n",
      " Woburn\n",
      " Leaside\n",
      " Central Bay Street\n",
      " Christie\n",
      " Cedarbrae\n",
      " Hillcrest Village\n",
      " Bathurst Manor, Wilson Heights, Downsview North\n",
      " Thorncliffe Park\n",
      " Richmond, Adelaide, King\n",
      " Dufferin, Dovercourt Village\n",
      " Scarborough Village\n",
      " Fairview, Henry Farm, Oriole\n",
      " Northwood Park, York University\n",
      " East Toronto\n",
      " Harbourfront East, Union Station, Toronto Islands\n",
      " Little Portugal, Trinity\n",
      " Kennedy Park, Ionview, East Birchmount Park\n",
      " Bayview Village\n",
      " Downsview\n",
      " The Danforth West, Riverdale\n",
      " Toronto Dominion Centre, Design Exchange\n",
      " Brockton, Parkdale Village, Exhibition Place\n",
      " Golden Mile, Clairlea, Oakridge\n",
      " York Mills, Silver Hills\n",
      " Downsview\n",
      " India Bazaar, The Beaches West\n",
      " Commerce Court, Victoria Hotel\n",
      " North Park, Maple Leaf Park, Upwood Park\n",
      " Humber Summit\n",
      " Cliffside, Cliffcrest, Scarborough Village West\n",
      " Willowdale, Newtonbrook\n",
      " Downsview\n",
      " Studio District\n",
      " Bedford Park, Lawrence Manor East\n",
      " Del Ray, Mount Dennis, Keelsdale and Silverthorn\n",
      " Humberlea, Emery\n",
      " Birch Cliff, Cliffside West\n",
      " Willowdale\n",
      " Downsview\n",
      " Lawrence Park\n",
      " Roselawn\n",
      " Runnymede, The Junction North\n",
      " Weston\n",
      " Dorset Park, Wexford Heights, Scarborough Town Centre\n",
      " York Mills West\n",
      " Davisville North\n",
      " Forest Hill North &amp; West\n",
      " High Park, The Junction South\n",
      " Westmount\n",
      " Wexford, Maryvale\n",
      " Willowdale\n",
      " North Toronto West\n",
      " The Annex, North Midtown, Yorkville\n",
      " Parkdale, Roncesvalles\n",
      " Canada Post Gateway Processing Centre\n",
      " Kingsview Village, St. Phillips, Martin Grove Gardens, Richview Gardens\n",
      " Agincourt\n",
      " Davisville\n",
      " University of Toronto, Harbord\n",
      " Runnymede, Swansea\n",
      " Clarks Corners, Tam O'Shanter, Sullivan\n",
      " Moore Park, Summerhill East\n",
      " Kensington Market, Chinatown, Grange Park\n",
      " Milliken, Agincourt North, Steeles East, L'Amoreaux East\n",
      " Summerhill West, Rathnelly, South Hill, Forest Hill SE, Deer Park\n",
      " CN Tower, King and Spadina, Railway Lands, Harbourfront West, Bathurst\n",
      " Quay, South Niagara, Island airport\n",
      " New Toronto, Mimico South, Humber Bay Shores\n",
      " South Steeles, Silverstone, Humbergate, Jamestown, Mount Olive, Beaumond Heights, Thistletown, Albion Gardens\n",
      " Steeles West, L'Amoreaux West\n",
      " Rosedale\n",
      " Stn A PO Boxes\n",
      " Alderwood, Long Branch\n",
      " Northwest\n",
      " Upper Rouge\n",
      " St. James Town, Cabbagetown\n",
      " First Canadian Place, Underground city\n",
      " The Kingsway, Montgomery Road , Old Mill North\n",
      " Church and Wellesley\n",
      " Business reply mail Processing CentrE\n",
      " Old Mill South, King's Mill Park, Sunnylea, Humber Bay, Mimico NE, The Queensway East, Royal York South East, Kingsway Park South East\n",
      " Mimico NW, The Queensway West, South of Bloor, Kingsway Park South West, Royal York South West\n"
     ]
    }
   ],
   "source": [
    "df_toronto_venues = findNearbyVenues(names=df_toronto['Neighborhood'], latitudes=df_toronto['Latitude'],\n",
    "                    longitudes=df_toronto['Longitude'])"
   ]
  },
  {
   "cell_type": "code",
   "execution_count": 39,
   "metadata": {},
   "outputs": [
    {
     "data": {
      "text/html": [
       "<div>\n",
       "<style scoped>\n",
       "    .dataframe tbody tr th:only-of-type {\n",
       "        vertical-align: middle;\n",
       "    }\n",
       "\n",
       "    .dataframe tbody tr th {\n",
       "        vertical-align: top;\n",
       "    }\n",
       "\n",
       "    .dataframe thead th {\n",
       "        text-align: right;\n",
       "    }\n",
       "</style>\n",
       "<table border=\"1\" class=\"dataframe\">\n",
       "  <thead>\n",
       "    <tr style=\"text-align: right;\">\n",
       "      <th></th>\n",
       "      <th>Neighborhood</th>\n",
       "      <th>Neighborhood Latitude</th>\n",
       "      <th>Neighborhood Longitude</th>\n",
       "      <th>Venue</th>\n",
       "      <th>Venue Latitude</th>\n",
       "      <th>Venue Longitude</th>\n",
       "      <th>Venue Category</th>\n",
       "    </tr>\n",
       "  </thead>\n",
       "  <tbody>\n",
       "    <tr>\n",
       "      <th>0</th>\n",
       "      <td>Parkwoods</td>\n",
       "      <td>43.753259</td>\n",
       "      <td>-79.329656</td>\n",
       "      <td>Brookbanks Park</td>\n",
       "      <td>43.751976</td>\n",
       "      <td>-79.332140</td>\n",
       "      <td>Park</td>\n",
       "    </tr>\n",
       "    <tr>\n",
       "      <th>1</th>\n",
       "      <td>Parkwoods</td>\n",
       "      <td>43.753259</td>\n",
       "      <td>-79.329656</td>\n",
       "      <td>Variety Store</td>\n",
       "      <td>43.751974</td>\n",
       "      <td>-79.333114</td>\n",
       "      <td>Food &amp; Drink Shop</td>\n",
       "    </tr>\n",
       "    <tr>\n",
       "      <th>2</th>\n",
       "      <td>Victoria Village</td>\n",
       "      <td>43.725882</td>\n",
       "      <td>-79.315572</td>\n",
       "      <td>Brookbanks Park</td>\n",
       "      <td>43.751976</td>\n",
       "      <td>-79.332140</td>\n",
       "      <td>Park</td>\n",
       "    </tr>\n",
       "    <tr>\n",
       "      <th>3</th>\n",
       "      <td>Victoria Village</td>\n",
       "      <td>43.725882</td>\n",
       "      <td>-79.315572</td>\n",
       "      <td>Variety Store</td>\n",
       "      <td>43.751974</td>\n",
       "      <td>-79.333114</td>\n",
       "      <td>Food &amp; Drink Shop</td>\n",
       "    </tr>\n",
       "    <tr>\n",
       "      <th>4</th>\n",
       "      <td>Regent Park, Harbourfront</td>\n",
       "      <td>43.654260</td>\n",
       "      <td>-79.360636</td>\n",
       "      <td>Brookbanks Park</td>\n",
       "      <td>43.751976</td>\n",
       "      <td>-79.332140</td>\n",
       "      <td>Park</td>\n",
       "    </tr>\n",
       "  </tbody>\n",
       "</table>\n",
       "</div>"
      ],
      "text/plain": [
       "                 Neighborhood  Neighborhood Latitude  Neighborhood Longitude  \\\n",
       "0                   Parkwoods              43.753259              -79.329656   \n",
       "1                   Parkwoods              43.753259              -79.329656   \n",
       "2            Victoria Village              43.725882              -79.315572   \n",
       "3            Victoria Village              43.725882              -79.315572   \n",
       "4   Regent Park, Harbourfront              43.654260              -79.360636   \n",
       "\n",
       "             Venue  Venue Latitude  Venue Longitude     Venue Category  \n",
       "0  Brookbanks Park       43.751976       -79.332140               Park  \n",
       "1    Variety Store       43.751974       -79.333114  Food & Drink Shop  \n",
       "2  Brookbanks Park       43.751976       -79.332140               Park  \n",
       "3    Variety Store       43.751974       -79.333114  Food & Drink Shop  \n",
       "4  Brookbanks Park       43.751976       -79.332140               Park  "
      ]
     },
     "execution_count": 39,
     "metadata": {},
     "output_type": "execute_result"
    }
   ],
   "source": [
    "df_toronto_venues.head()"
   ]
  },
  {
   "cell_type": "code",
   "execution_count": 41,
   "metadata": {},
   "outputs": [
    {
     "name": "stdout",
     "output_type": "stream",
     "text": [
      "(251, 7)\n"
     ]
    }
   ],
   "source": [
    "print(df_toronto_venues.shape)"
   ]
  },
  {
   "cell_type": "markdown",
   "metadata": {},
   "source": [
    "#### Find out the Unique Venue Category"
   ]
  },
  {
   "cell_type": "code",
   "execution_count": 42,
   "metadata": {},
   "outputs": [
    {
     "data": {
      "text/plain": [
       "array(['Park', 'Food & Drink Shop', 'Convenience Store'], dtype=object)"
      ]
     },
     "execution_count": 42,
     "metadata": {},
     "output_type": "execute_result"
    }
   ],
   "source": [
    "df_toronto_venues['Venue Category'].unique()"
   ]
  },
  {
   "cell_type": "code",
   "execution_count": null,
   "metadata": {},
   "outputs": [],
   "source": []
  },
  {
   "cell_type": "code",
   "execution_count": null,
   "metadata": {},
   "outputs": [],
   "source": []
  }
 ],
 "metadata": {
  "kernelspec": {
   "display_name": "Python 3",
   "language": "python",
   "name": "python3"
  },
  "language_info": {
   "codemirror_mode": {
    "name": "ipython",
    "version": 3
   },
   "file_extension": ".py",
   "mimetype": "text/x-python",
   "name": "python",
   "nbconvert_exporter": "python",
   "pygments_lexer": "ipython3",
   "version": "3.7.3"
  }
 },
 "nbformat": 4,
 "nbformat_minor": 2
}
